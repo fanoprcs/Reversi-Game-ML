{
 "cells": [
  {
   "cell_type": "code",
   "execution_count": null,
   "id": "335d9801-7aa1-4cd9-b36e-278be23e3735",
   "metadata": {},
   "outputs": [],
   "source": [
    "# %load build.py\n",
    "from AIGamePlatform import Othello\n",
    "from othello.bots.DeepLearning import BOT\n",
    "import time\n",
    "class Human:\n",
    "    def getAction(self, game, color):\n",
    "        print('input coordinate:', end='')\n",
    "        coor=input()\n",
    "        return (int(coor[1])-1, ord(coor[0])-ord('A'))\n",
    "        \n",
    "BOARD_SIZE=8\n",
    "bot=BOT(board_size=BOARD_SIZE)\n",
    "app=Othello()\n",
    "\n",
    "@app.competition(competition_id='test')\n",
    "def _callback_(board, color): # 函數名稱可以自訂，board是當前盤面，color代表黑子或白子\n",
    "    #time.sleep(0.5)\n",
    "    return bot.getAction(board, color) # 回傳要落子的座標"
   ]
  },
  {
   "cell_type": "code",
   "execution_count": null,
   "id": "fc9eb749-f694-4801-bea9-9ed59ea6e875",
   "metadata": {},
   "outputs": [],
   "source": [
    "# %load Play.py\n",
    "import numpy as np\n",
    "from othello.OGame import OthelloGame \n",
    "from othello.bots.DeepLearning import BOT\n",
    "from othello.bots.DeepLearning.OthModelhttps://accounts.google.com/o/oauth2/auth?response_type=code&client_id=272292807664-ij5jkhcmhjft8q18s644j7msk8f7688b.apps.googleusercontent.com&redirect_uri=http%3A%2F%2Flocalhost%3A9486%2F&scope=openid+https%3A%2F%2Fwww.googleapis.com%2Fauth%2Fuserinfo.profile+https%3A%2F%2Fwww.googleapis.com%2Fauth%2Fuserinfo.email&state=Hyybn6B10MhDLaksN5DL3xTv7L9NeP&access_type=offline import OthelloModel\n",
    "from othello.OthelloUtil import getValidMoves\n",
    "class Human: \n",
    "    \n",
    "    def getAction(self, game, color): \n",
    "        print('input coordinate:', end='') \n",
    "        coor=input() \n",
    "        return (int(coor[1])-1, ord(coor[0])-ord('A')) \n",
    "        \n",
    "game=OthelloGame(n=8) \n",
    "game.play(black=BOT(board_size = 8), white=Human(),verbose = 1)\n",
    "print(game.isEndGame())"
   ]
  },
  {
   "cell_type": "code",
   "execution_count": null,
   "id": "5ea7dae6-f01e-4b44-b87e-978c395c6594",
   "metadata": {},
   "outputs": [],
   "source": [
    "# %load model_train.py\n",
    "from othello.bots.DeepLearning import BOT\n",
    "\n",
    "BOARD_SIZE=8\n",
    "bot=BOT(board_size = BOARD_SIZE)\n",
    "\n",
    "parameter={'num_of_generate_data_for_train': 4,'epochs': 8,'batch_size': 4,'verbose': True}\n",
    "\n",
    "iterations = 100\n",
    "\n",
    "for _ in range(iterations):\n",
    "    bot.self_play_train(parameter)"
   ]
  },
  {
   "cell_type": "code",
   "execution_count": null,
   "id": "3056280b-475f-419d-9c80-93dafe47ca92",
   "metadata": {},
   "outputs": [],
   "source": []
  }
 ],
 "metadata": {
  "kernelspec": {
   "display_name": "Python 3 (ipykernel)",
   "language": "python",
   "name": "python3"
  },
  "language_info": {
   "codemirror_mode": {
    "name": "ipython",
    "version": 3
   },
   "file_extension": ".py",
   "mimetype": "text/x-python",
   "name": "python",
   "nbconvert_exporter": "python",
   "pygments_lexer": "ipython3",
   "version": "3.9.7"
  }
 },
 "nbformat": 4,
 "nbformat_minor": 5
}
