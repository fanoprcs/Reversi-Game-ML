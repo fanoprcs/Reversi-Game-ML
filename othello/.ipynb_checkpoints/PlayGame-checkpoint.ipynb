{
 "cells": [
  {
   "cell_type": "code",
   "execution_count": null,
   "id": "94f79a3a-1766-4519-9b7a-58f06b1aa583",
   "metadata": {},
   "outputs": [
    {
     "name": "stdout",
     "output_type": "stream",
     "text": [
      "########## Player 1 ##########\n",
      "   A  B  C  D  E  F  G  H \n",
      "   -  -  -  -  -  -  -  - \n",
      "1  0  0  0  0  0  0  0  0 \n",
      "2  0  0  0  0  0  0  0  0 \n",
      "3  0  0  0  ∎  0  0  0  0 \n",
      "4  0  0  ∎ -1  1  0  0  0 \n",
      "5  0  0  0  1 -1  ∎  0  0 \n",
      "6  0  0  0  0  ∎  0  0  0 \n",
      "7  0  0  0  0  0  0  0  0 \n",
      "8  0  0  0  0  0  0  0  0 \n",
      "input coordinate:"
     ]
    },
    {
     "name": "stdin",
     "output_type": "stream",
     "text": [
      " A3\n"
     ]
    },
    {
     "name": "stdout",
     "output_type": "stream",
     "text": [
      "invalid move\n",
      "\n",
      "########## Player 1 ##########\n",
      "   A  B  C  D  E  F  G  H \n",
      "   -  -  -  -  -  -  -  - \n",
      "1  0  0  0  0  0  0  0  0 \n",
      "2  0  0  0  0  0  0  0  0 \n",
      "3  0  0  0  ∎  0  0  0  0 \n",
      "4  0  0  ∎ -1  1  0  0  0 \n",
      "5  0  0  0  1 -1  ∎  0  0 \n",
      "6  0  0  0  0  ∎  0  0  0 \n",
      "7  0  0  0  0  0  0  0  0 \n",
      "8  0  0  0  0  0  0  0  0 \n",
      "input coordinate:"
     ]
    },
    {
     "name": "stdin",
     "output_type": "stream",
     "text": [
      " C3\n"
     ]
    },
    {
     "name": "stdout",
     "output_type": "stream",
     "text": [
      "invalid move\n",
      "\n",
      "########## Player 1 ##########\n",
      "   A  B  C  D  E  F  G  H \n",
      "   -  -  -  -  -  -  -  - \n",
      "1  0  0  0  0  0  0  0  0 \n",
      "2  0  0  0  0  0  0  0  0 \n",
      "3  0  0  0  ∎  0  0  0  0 \n",
      "4  0  0  ∎ -1  1  0  0  0 \n",
      "5  0  0  0  1 -1  ∎  0  0 \n",
      "6  0  0  0  0  ∎  0  0  0 \n",
      "7  0  0  0  0  0  0  0  0 \n",
      "8  0  0  0  0  0  0  0  0 \n",
      "input coordinate:"
     ]
    },
    {
     "name": "stdin",
     "output_type": "stream",
     "text": [
      " C4\n"
     ]
    },
    {
     "name": "stdout",
     "output_type": "stream",
     "text": [
      "######### Player -1 ##########\n",
      "   A  B  C  D  E  F  G  H \n",
      "   -  -  -  -  -  -  -  - \n",
      "1  0  0  0  0  0  0  0  0 \n",
      "2  0  0  0  0  0  0  0  0 \n",
      "3  0  0  0  0  ∎  0  0  0 \n",
      "4  0  ∎  1 -1  1  ∎  0  0 \n",
      "5  0  0  ∎  1 -1  0  0  0 \n",
      "6  0  0  0  ∎  0  0  0  0 \n",
      "7  0  0  0  0  0  0  0  0 \n",
      "8  0  0  0  0  0  0  0  0 \n",
      "########## Player 1 ##########\n",
      "   A  B  C  D  E  F  G  H \n",
      "   -  -  -  -  -  -  -  - \n",
      "1  0  0  0  0  0  0  0  0 \n",
      "2  0  0  0  0  ∎  0  0  0 \n",
      "3  0  0  0  ∎ -1  0  0  0 \n",
      "4  0  0  1 -1  1  0  0  0 \n",
      "5  0  0  0  1 -1  ∎  0  0 \n",
      "6  0  0  0  0  ∎  0  0  0 \n",
      "7  0  0  0  0  0  0  0  0 \n",
      "8  0  0  0  0  0  0  0  0 \n",
      "input coordinate:"
     ]
    }
   ],
   "source": [
    "from othello.OGame import OthelloGame\n",
    "from othello.bots.Random import BOT\n",
    "\n",
    "game=OthelloGame(n=8)\n",
    "\n",
    "class Human:\n",
    "    def getAction(self, game, color):\n",
    "        print('input coordinate:', end='')\n",
    "        coor=input()\n",
    "        return (int(coor[1])-1, ord(coor[0])-ord('A'))\n",
    "\n",
    "game.play(black=Human(), white=BOT())\n",
    "\n",
    "\n"
   ]
  },
  {
   "cell_type": "code",
   "execution_count": null,
   "id": "7661ffeb-fc4b-4dc6-a872-465ac999518e",
   "metadata": {},
   "outputs": [],
   "source": []
  }
 ],
 "metadata": {
  "kernelspec": {
   "display_name": "Python 3",
   "language": "python",
   "name": "python3"
  },
  "language_info": {
   "codemirror_mode": {
    "name": "ipython",
    "version": 3
   },
   "file_extension": ".py",
   "mimetype": "text/x-python",
   "name": "python",
   "nbconvert_exporter": "python",
   "pygments_lexer": "ipython3",
   "version": "3.8.8"
  }
 },
 "nbformat": 4,
 "nbformat_minor": 5
}
